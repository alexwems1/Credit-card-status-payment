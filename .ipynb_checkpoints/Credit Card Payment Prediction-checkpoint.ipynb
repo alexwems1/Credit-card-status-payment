{
 "cells": [
  {
   "cell_type": "markdown",
   "metadata": {},
   "source": [
    "## Credit card status payment\n"
   ]
  },
  {
   "cell_type": "markdown",
   "metadata": {},
   "source": [
    "During this paper, we will analyze the information provided on credit card usage of a set of customers in a bank in Taiwan. With this information we will build a model to predict payments."
   ]
  },
  {
   "cell_type": "markdown",
   "metadata": {},
   "source": [
    "### Variables"
   ]
  },
  {
   "cell_type": "markdown",
   "metadata": {},
   "source": [
    "* CREDIT ID: Identifier of each client. LIMIT BAL: Credit Line Amount \n",
    "* SEX: Gender (1=male, 2=female) \n",
    "* EDUCATION: (1=high school, 2=college, 3= Middle School, 4=other, 5=unknown, 6=unknown) \n",
    "* MARRIAGE: Marital status (1=married, 2=single, 3=other) \n",
    "* AGE: Age in years \n",
    "* DEFAULT - Default payment next month (Yes=1, No=0)\n",
    "* PAST_PAY - History of repayment status\n",
    "    - PAST_PAY1 = the repayment status in September 2005\n",
    "    - PAST_PAY2 = the repayment status in August 2005\n",
    "    - PAST_PAY6 = the repayment status in April 2005\n",
    "    - The measurement scale for the repayment status is\n",
    "    i.  -1 = pay duly <br>\n",
    "    ii.  1 = payment delay for one month<br>\n",
    "    iii. 2 = payment delay for two months <br>\n",
    "    iv.  8 = payment delay for eight months<br>\n",
    "    v.   9 = payment delay for nine months and above <br>\n",
    "* BILL_AMT- Amount of bill statement (INR)\n",
    "    - BILL_AMT1 = amount of bill statement in September 2005\n",
    "    - BILL_AMT2 = amount of bill statement in August 2005\n",
    "    - BILL_AMT6 = amount of bill statement in April 2005\n",
    "* PAY_AMT - Amount of previous payment (INR)\n",
    "    - PAY_AMT1 = amount paid in September 2005\n",
    "    - PAY_AMT2 = amount paid in August 2005\n",
    "    - PAY_AMT6 = amount paid in April 2005"
   ]
  },
  {
   "cell_type": "markdown",
   "metadata": {},
   "source": [
    "### Libraries "
   ]
  },
  {
   "cell_type": "code",
   "execution_count": null,
   "metadata": {},
   "outputs": [],
   "source": [
    "import csv\n",
    "import pandas as pd\n",
    "import matplotlib.pyplot as plt\n",
    "import numpy as np \n",
    "import seaborn as sns\n",
    "import matplotlib.gridspec as gridspec\n",
    "from sklearn import svm as sv\n",
    "from warnings import filterwarnings\n",
    "from scipy.stats import zscore\n",
    "from scipy import stats\n",
    "from sklearn.tree import DecisionTreeClassifier # Import Decision Tree Classifier\n",
    "from sklearn.model_selection import train_test_split # Import train_test_split function\n",
    "from sklearn import metrics #Import scikit-learn metrics module for accuracy calculation\n",
    "from sklearn.ensemble import RandomForestClassifier\n",
    "from sklearn.linear_model import LogisticRegression\n",
    "from sklearn.metrics import confusion_matrix\n",
    "from sklearn.metrics import f1_score"
   ]
  },
  {
   "cell_type": "code",
   "execution_count": null,
   "metadata": {},
   "outputs": [],
   "source": [
    "filterwarnings(\"ignore\", category=DeprecationWarning) \n",
    "filterwarnings(\"ignore\", category=FutureWarning) \n",
    "filterwarnings(\"ignore\", category=UserWarning)"
   ]
  },
  {
   "cell_type": "markdown",
   "metadata": {},
   "source": [
    "### Importing Data "
   ]
  },
  {
   "cell_type": "code",
   "execution_count": null,
   "metadata": {},
   "outputs": [],
   "source": [
    "data = pd.read_csv('UCI_Credit_Card.csv')\n",
    "data\n"
   ]
  },
  {
   "cell_type": "markdown",
   "metadata": {},
   "source": [
    "### Feature Engineering "
   ]
  },
  {
   "cell_type": "code",
   "execution_count": null,
   "metadata": {},
   "outputs": [],
   "source": [
    "data.info()"
   ]
  },
  {
   "cell_type": "code",
   "execution_count": null,
   "metadata": {},
   "outputs": [],
   "source": [
    "data.describe()"
   ]
  },
  {
   "cell_type": "code",
   "execution_count": null,
   "metadata": {},
   "outputs": [],
   "source": [
    "#Show Nan values\n",
    "multis = data.ID.value_counts() \n",
    "multis = multis[multis.values>1] \n",
    "multis"
   ]
  },
  {
   "cell_type": "code",
   "execution_count": null,
   "metadata": {},
   "outputs": [],
   "source": [
    "#Duplicate Values \n",
    "duplicates_index = data[data.duplicated(keep=\"first\")].index\n",
    "duplicates_index"
   ]
  },
  {
   "cell_type": "code",
   "execution_count": null,
   "metadata": {},
   "outputs": [],
   "source": [
    "data['EDUCATION'].unique()"
   ]
  },
  {
   "cell_type": "code",
   "execution_count": null,
   "metadata": {},
   "outputs": [],
   "source": [
    "#The categories 4:others, 5:unknown, and 6:unknown can be grouped into a single class '4'.\n",
    "data['EDUCATION']=np.where(data['EDUCATION'] == 5, 4, data['EDUCATION'])\n",
    "data['EDUCATION']=np.where(data['EDUCATION'] == 6, 4, data['EDUCATION'])\n",
    "data['EDUCATION']=np.where(data['EDUCATION'] == 0, 4, data['EDUCATION'])\n",
    "data['EDUCATION'].unique()"
   ]
  },
  {
   "cell_type": "code",
   "execution_count": null,
   "metadata": {},
   "outputs": [],
   "source": [
    "data = data.drop(data.columns[0], axis = 1)\n",
    "data.head()"
   ]
  },
  {
   "cell_type": "code",
   "execution_count": null,
   "metadata": {},
   "outputs": [],
   "source": [
    "data.columns"
   ]
  },
  {
   "cell_type": "code",
   "execution_count": null,
   "metadata": {},
   "outputs": [],
   "source": [
    "#Outliers\n",
    "z_scores = stats.zscore(data)\n",
    "abs_z_scores = np.abs(z_scores)\n",
    "filtered_entries = (abs_z_scores < 3).all(axis=1)\n",
    "data = data[filtered_entries]\n",
    "data.count()"
   ]
  },
  {
   "cell_type": "markdown",
   "metadata": {},
   "source": [
    "### Data visualization"
   ]
  },
  {
   "cell_type": "code",
   "execution_count": null,
   "metadata": {},
   "outputs": [],
   "source": [
    "fig, axarr = plt.subplots(3, 2, figsize=(20, 12))\n",
    "sns.countplot(x='SEX', hue = 'SEX', data = data, ax=axarr[0][0])\n",
    "sns.countplot(x='EDUCATION', hue = 'EDUCATION', data = data, ax=axarr[0][1])\n",
    "sns.countplot(x='MARRIAGE', hue = 'MARRIAGE', data = data, ax=axarr[1][0])\n",
    "sns.countplot(x='AGE', data = data, ax=axarr[1][1])\n",
    "sns.countplot(x='LIMIT_BAL', data = data, ax=axarr[2][0])\n",
    "sns.countplot(x='PAY_AMT2', data = data, ax=axarr[2][1])"
   ]
  },
  {
   "cell_type": "markdown",
   "metadata": {},
   "source": [
    "There are 27,000 credit card clients.\n",
    "\n",
    "The average value for the amount of credit card limit is 167,484 NT dollars. The standard deviation is 129,658 NT dollars, ranging from 10,000 to 1M NT dollars.\n",
    "\n",
    "Education level is mostly graduate school and university.\n",
    "\n",
    "Most of the clients are either marrined or single (less frequent the other status).\n",
    "\n",
    "Average age is 35.5 years, with a standard deviation of 9.2.\n",
    "\n",
    "As the value 0 for default payment means 'not default' and value 1 means 'default', the mean of 0.221 means that there are 22.1% of credit card contracts that will default next month (will verify this in the next sections of this analysis)."
   ]
  },
  {
   "cell_type": "code",
   "execution_count": null,
   "metadata": {},
   "outputs": [],
   "source": [
    "#Distribution Plot:\n",
    "con_col = data.drop(['SEX', 'MARRIAGE'], axis = 1)\n",
    "for i in con_col:\n",
    "    plt.figure(figsize=(20,5))\n",
    "    sns.distplot(data[i],color='b')\n",
    "    plt.show()"
   ]
  },
  {
   "cell_type": "code",
   "execution_count": null,
   "metadata": {},
   "outputs": [],
   "source": [
    "corr_pearson = data.corr(method = 'pearson')\n",
    "fig = plt.figure(figsize = (14,8))\n",
    "sns.heatmap(corr_pearson, annot=True, cmap='RdYlGn',\n",
    "            vmin=-1, vmax=1)\n",
    "plt.title('Pearson Correlation')\n",
    "plt.show()"
   ]
  },
  {
   "cell_type": "code",
   "execution_count": null,
   "metadata": {},
   "outputs": [],
   "source": [
    "corr_spearman = data.corr(method = 'spearman')\n",
    "fig = plt.figure(figsize = (14,8))\n",
    "sns.heatmap(corr_spearman, annot=True, cmap='RdYlGn',\n",
    "            vmin=-1, vmax=1)\n",
    "plt.title('Spearman Correlation')\n",
    "plt.show()"
   ]
  },
  {
   "cell_type": "code",
   "execution_count": null,
   "metadata": {},
   "outputs": [],
   "source": [
    "fig, ax = plt.subplots(figsize=(9,5))\n",
    "data.corr()[\"PAY_AMT2\"].sort_values(ascending=False).plot(kind=\"bar\", ax=ax)"
   ]
  },
  {
   "cell_type": "markdown",
   "metadata": {},
   "source": [
    "### Modeling \n"
   ]
  },
  {
   "cell_type": "code",
   "execution_count": null,
   "metadata": {},
   "outputs": [],
   "source": [
    "x_data = data.drop(\"default.payment.next.month\",axis=1)\n",
    "y = data[\"default.payment.next.month\"]\n",
    "x = (x_data - np.min(x_data)) / (np.max(x_data) - np.min(x_data)).values\n",
    "xTrain,xTest,yTrain,yTest = train_test_split(x,y,test_size=0.25,random_state=42)"
   ]
  },
  {
   "cell_type": "code",
   "execution_count": null,
   "metadata": {},
   "outputs": [],
   "source": [
    "lg = LogisticRegression().fit(xTrain,yTrain)\n",
    "dtc = DecisionTreeClassifier().fit(xTrain,yTrain)\n",
    "rdc = RandomForestClassifier(n_estimators=100).fit(xTrain,yTrain)\n",
    "svm = sv.SVC(kernel='linear').fit(xTrain,yTrain)\n",
    "XG = GradientBoostingClassifier(n_estimators=100, learning_rate=1.0, max_depth=1, random_state=0).fit(xTrain,yTrain)\n",
    "bg = BaggingClassifier(base_estimator = None, n_estimators = 10, n_jobs = None, random_state = 0)"
   ]
  },
  {
   "cell_type": "code",
   "execution_count": null,
   "metadata": {},
   "outputs": [],
   "source": [
    "models = [lg,dtc,rdc,svm, XG, bg]"
   ]
  },
  {
   "cell_type": "code",
   "execution_count": null,
   "metadata": {},
   "outputs": [],
   "source": [
    "for model in models: \n",
    "    name = model.__class__.__name__\n",
    "    y_pred=model.predict(xTest)\n",
    "    print(name + \": \")\n",
    "    print(\"-\" * 18)\n",
    "    print(\"Accuracy:\",metrics.accuracy_score(yTest, y_pred))\n",
    "    print(\"Precision:\",metrics.precision_score(yTest, y_pred))\n",
    "    print(\"Recall:\",metrics.recall_score(yTest, y_pred))\n",
    "    print(\"Recall:\",metrics.f1_score(yTest, y_pred))\n",
    "    matrix = confusion_matrix(yTest,y_pred, labels=[1,0])\n",
    "    print('Confusion matrix : \\n',matrix)\n",
    "    print(\"-\" * 35)"
   ]
  },
  {
   "cell_type": "code",
   "execution_count": null,
   "metadata": {},
   "outputs": [],
   "source": [
    "for pred in models:\n",
    "    Y_pred = pred.predict(xTest)\n",
    "    fig = plt.figure(figsize=(10,7))\n",
    "\n",
    "    plt.plot(np.arange(0,len(yTest)),sorted(yTest), c='b', label='Actual')\n",
    "    plt.plot(np.arange(0,len(yTest)),sorted(Y_pred), c='r', label='Predicted')\n",
    "\n",
    "    plt.title(\n",
    "             f'Method = {pred}')\n",
    "    plt.legend(loc='best')\n",
    "\n",
    "    plt.show()"
   ]
  }
 ],
 "metadata": {
  "kernelspec": {
   "display_name": "Python 3",
   "language": "python",
   "name": "python3"
  },
  "language_info": {
   "codemirror_mode": {
    "name": "ipython",
    "version": 3
   },
   "file_extension": ".py",
   "mimetype": "text/x-python",
   "name": "python",
   "nbconvert_exporter": "python",
   "pygments_lexer": "ipython3",
   "version": "3.8.5"
  }
 },
 "nbformat": 4,
 "nbformat_minor": 4
}
